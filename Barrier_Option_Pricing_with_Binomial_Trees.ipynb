{
  "nbformat": 4,
  "nbformat_minor": 0,
  "metadata": {
    "colab": {
      "provenance": [],
      "authorship_tag": "ABX9TyMz43Uvd6hZq3Y0OurNP9Dw"
    },
    "kernelspec": {
      "name": "python3",
      "display_name": "Python 3"
    },
    "language_info": {
      "name": "python"
    }
  },
  "cells": [
    {
      "cell_type": "markdown",
      "source": [
        "# Barrier Options with Binomial Trees\n",
        "\n",
        "Implementation of a simple slow and fast barrier tree pricing model in python. We will treat binomial tree as a network with nodes (i,j) with i representing the time steps and j representing the number of ordered price outcome (lowest - or bottom of tree - to highest).\n",
        "\n",
        "* barrier_tree_slow\n",
        "* barrier_tree_fast   \n",
        "\n",
        "We will be using a generic timing wrapper function to judge the time performance of using numpy arrays over for loops to iterate over j nodes in each time step i."
      ],
      "metadata": {
        "id": "yE0qTogsnS-E"
      }
    },
    {
      "cell_type": "code",
      "source": [
        "import numpy as np\n",
        "\n",
        "from functools import wraps\n",
        "from time import time\n",
        "\n",
        "def timing(f):\n",
        "    @wraps(f)\n",
        "    def wrap(*args, **kw):\n",
        "        ts = time()\n",
        "        result = f(*args, **kw)\n",
        "        te = time()\n",
        "        print('func:%r args:[%r, %r] took: %2.4f sec' % \\\n",
        "          (f.__name__, args, kw, te-ts))\n",
        "        return result\n",
        "    return wrap\n"
      ],
      "metadata": {
        "id": "YJ7xd_j9np3O"
      },
      "execution_count": null,
      "outputs": []
    },
    {
      "cell_type": "markdown",
      "source": [
        "# Binomial Tree Representation\n",
        "\n",
        "Stock tree can be represented using nodes (i,j) and intial stock price (S0)\n",
        "\n",
        "C(i,j) represents contract price at each node (i,j). Where represents C(Nj) represents final function that we can define.\n"
      ],
      "metadata": {
        "id": "Gt9aY5lYntMC"
      }
    },
    {
      "cell_type": "code",
      "source": [
        "# Initialise parameters\n",
        "S0 = 100      # initial stock price\n",
        "K = 100       # strike price\n",
        "T = 1         # time to maturity in years\n",
        "H = 125       # up-and-out barrier price/value\n",
        "r = 0.06      # annual risk-free rate\n",
        "N = 3         # number of time steps\n",
        "u = 1.1       # up-factor in binomial models\n",
        "d = 1/u       # ensure recombining tree\n",
        "opttype = 'C' # Option Type 'C' or 'P'"
      ],
      "metadata": {
        "id": "RDsdK5LroC52"
      },
      "execution_count": null,
      "outputs": []
    },
    {
      "cell_type": "markdown",
      "source": [
        "# Barrier Tree Slow\n",
        "\n",
        "Here we will use for loops to iterate through nodes j at each time step i."
      ],
      "metadata": {
        "id": "08JF8mEuoF8y"
      }
    },
    {
      "cell_type": "code",
      "source": [
        "@timing\n",
        "def barrier_tree_slow(K,T,S0,H,r,N,u,d,opttype='C'):\n",
        "    #precompute values\n",
        "    dt = T/N\n",
        "    q = (np.exp(r*dt) - d)/(u-d)\n",
        "    disc = np.exp(-r*dt)\n",
        "\n",
        "    # initialise asset prices at maturity\n",
        "    S = np.zeros(N+1)\n",
        "    for j in range(0,N+1):\n",
        "        S[j] = S0 * u**j * d**(N-j)\n",
        "\n",
        "    # option payoff\n",
        "    C = np.zeros(N+1)\n",
        "    for j in range(0,N+1):\n",
        "        if opttype == 'C':\n",
        "            C[j] = max(0, S[j] - K)\n",
        "        else:\n",
        "            C[j] = max(0, K - S[j])\n",
        "\n",
        "    # check terminal condition payoff\n",
        "    for j in range(0, N+1):\n",
        "        S = S0 * u**j * d**(N-j)\n",
        "        if S >= H:\n",
        "            C[j] = 0\n",
        "\n",
        "    # backward recursion through the tree\n",
        "    for i in np.arange(N-1,-1,-1):\n",
        "        for j in range(0,i+1):\n",
        "            S = S0 * u**j * d**(i-j)\n",
        "            if S >= H:\n",
        "                C[j] = 0\n",
        "            else:\n",
        "                C[j] = disc * (q*C[j+1]+(1-q)*C[j])\n",
        "    return C[0]\n",
        "\n",
        "barrier_tree_slow(K,T,S0,H,r,N,u,d,opttype='C')"
      ],
      "metadata": {
        "colab": {
          "base_uri": "https://localhost:8080/"
        },
        "id": "ED47PVkGoQxe",
        "outputId": "93ffbb1e-593c-4f41-8e29-96bf75b8aac6"
      },
      "execution_count": null,
      "outputs": [
        {
          "output_type": "stream",
          "name": "stdout",
          "text": [
            "func:'barrier_tree_slow' args:[(100, 1, 100, 125, 0.06, 3, 1.1, 0.9090909090909091), {'opttype': 'C'}] took: 0.0002 sec\n"
          ]
        },
        {
          "output_type": "execute_result",
          "data": {
            "text/plain": [
              "np.float64(4.00026736854323)"
            ]
          },
          "metadata": {},
          "execution_count": 4
        }
      ]
    },
    {
      "cell_type": "markdown",
      "source": [
        "# Barrier Tree Fast\n",
        "\n",
        "Now we will vectorise out code using numpy arrays instead of for loops through j nodes."
      ],
      "metadata": {
        "id": "1cvSN5YToZkv"
      }
    },
    {
      "cell_type": "code",
      "source": [
        "@timing\n",
        "def barrier_tree_fast(K,T,S0,H,r,N,u,d,opttype='C'):\n",
        "    #precompute values\n",
        "    dt = T/N\n",
        "    q = (np.exp(r*dt) - d)/(u-d)\n",
        "    disc = np.exp(-r*dt)\n",
        "\n",
        "    # initialise asset prices at maturity\n",
        "    S = S0 * d**(np.arange(N,-1,-1)) * u**(np.arange(0,N+1,1))\n",
        "\n",
        "    # option payoff\n",
        "    if opttype == 'C':\n",
        "        C = np.maximum( S - K, 0 )\n",
        "    else:\n",
        "        C = np.maximum( K - S, 0 )\n",
        "\n",
        "    # check terminal condition payoff\n",
        "    C[S >= H] = 0\n",
        "\n",
        "    # backward recursion through the tree\n",
        "    for i in np.arange(N-1,-1,-1):\n",
        "        S = S0 * d**(np.arange(i,-1,-1)) * u**(np.arange(0,i+1,1))\n",
        "        C[:i+1] = disc * ( q * C[1:i+2] + (1-q) * C[0:i+1] )\n",
        "        C = C[:-1]\n",
        "        C[S >= H] = 0\n",
        "    return C[0]\n",
        "\n",
        "barrier_tree_fast(K,T,S0,H,r,N,u,d,opttype='C')"
      ],
      "metadata": {
        "colab": {
          "base_uri": "https://localhost:8080/"
        },
        "id": "_gCAnFEyoX22",
        "outputId": "52b522c3-58b5-4f82-9dee-b84d05892c06"
      },
      "execution_count": null,
      "outputs": [
        {
          "output_type": "stream",
          "name": "stdout",
          "text": [
            "func:'barrier_tree_fast' args:[(100, 1, 100, 125, 0.06, 3, 1.1, 0.9090909090909091), {'opttype': 'C'}] took: 0.0025 sec\n"
          ]
        },
        {
          "output_type": "execute_result",
          "data": {
            "text/plain": [
              "np.float64(4.00026736854323)"
            ]
          },
          "metadata": {},
          "execution_count": 5
        }
      ]
    },
    {
      "cell_type": "markdown",
      "source": [
        "# Barrier Options with Binomial Tree Slow vs Fast\n",
        "\n",
        "Now we will compare runtimes for slow vs fast. Ignore option price changes as this is impacted with changing the time steps and keeping the u and d factors the same."
      ],
      "metadata": {
        "id": "Cxg45S3Yospz"
      }
    },
    {
      "cell_type": "code",
      "source": [
        "for N in [3,50, 100, 1000, 5000]:\n",
        "    barrier_tree_slow(K,T,S0,H,r,N,u,d,opttype='C')\n",
        "    barrier_tree_fast(K,T,S0,H,r,N,u,d,opttype='C')"
      ],
      "metadata": {
        "colab": {
          "base_uri": "https://localhost:8080/"
        },
        "id": "Qee_OHyAoyQ6",
        "outputId": "aeb52bca-c8a4-4277-c401-86642229f1be"
      },
      "execution_count": null,
      "outputs": [
        {
          "output_type": "stream",
          "name": "stdout",
          "text": [
            "func:'barrier_tree_slow' args:[(100, 1, 100, 125, 0.06, 3, 1.1, 0.9090909090909091), {'opttype': 'C'}] took: 0.0008 sec\n",
            "func:'barrier_tree_fast' args:[(100, 1, 100, 125, 0.06, 3, 1.1, 0.9090909090909091), {'opttype': 'C'}] took: 0.0002 sec\n",
            "func:'barrier_tree_slow' args:[(100, 1, 100, 125, 0.06, 50, 1.1, 0.9090909090909091), {'opttype': 'C'}] took: 0.0079 sec\n",
            "func:'barrier_tree_fast' args:[(100, 1, 100, 125, 0.06, 50, 1.1, 0.9090909090909091), {'opttype': 'C'}] took: 0.0018 sec\n",
            "func:'barrier_tree_slow' args:[(100, 1, 100, 125, 0.06, 100, 1.1, 0.9090909090909091), {'opttype': 'C'}] took: 0.0189 sec\n",
            "func:'barrier_tree_fast' args:[(100, 1, 100, 125, 0.06, 100, 1.1, 0.9090909090909091), {'opttype': 'C'}] took: 0.0020 sec\n",
            "func:'barrier_tree_slow' args:[(100, 1, 100, 125, 0.06, 1000, 1.1, 0.9090909090909091), {'opttype': 'C'}] took: 1.4818 sec\n",
            "func:'barrier_tree_fast' args:[(100, 1, 100, 125, 0.06, 1000, 1.1, 0.9090909090909091), {'opttype': 'C'}] took: 0.0531 sec\n",
            "func:'barrier_tree_slow' args:[(100, 1, 100, 125, 0.06, 5000, 1.1, 0.9090909090909091), {'opttype': 'C'}] took: 38.7839 sec\n",
            "func:'barrier_tree_fast' args:[(100, 1, 100, 125, 0.06, 5000, 1.1, 0.9090909090909091), {'opttype': 'C'}] took: 0.8077 sec\n"
          ]
        }
      ]
    }
  ]
}