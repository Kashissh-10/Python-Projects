{
  "nbformat": 4,
  "nbformat_minor": 0,
  "metadata": {
    "colab": {
      "provenance": [],
      "authorship_tag": "ABX9TyMm670/cxAHTOSa/c9HDSKh"
    },
    "kernelspec": {
      "name": "python3",
      "display_name": "Python 3"
    },
    "language_info": {
      "name": "python"
    }
  },
  "cells": [
    {
      "cell_type": "markdown",
      "source": [
        "# American Put Options with the Binomial Asset Pricing Model\n",
        "\n",
        "We will treat binomial tree as a network with nodes (i,j) with i representing the time steps and j representing the number of ordered price outcome (lowest - or bottom of tree - to highest).\n",
        "\n",
        "* american_tree_slow\n",
        "* american_tree_fast"
      ],
      "metadata": {
        "id": "kcrpNGS_kL5R"
      }
    },
    {
      "cell_type": "code",
      "source": [
        "import numpy as np"
      ],
      "metadata": {
        "id": "SKQdCh1YkjCy"
      },
      "execution_count": null,
      "outputs": []
    },
    {
      "cell_type": "markdown",
      "source": [
        "# Generic timing wrapper function\n",
        "\n",
        "We will use this to benchmark the two binomial models"
      ],
      "metadata": {
        "id": "srrE3Uh8lOFD"
      }
    },
    {
      "cell_type": "code",
      "source": [
        "from functools import wraps\n",
        "from time import time\n",
        "\n",
        "def timing(f):\n",
        "    @wraps(f)\n",
        "    def wrap(*args, **kw):\n",
        "        ts = time()\n",
        "        result = f(*args, **kw)\n",
        "        te = time()\n",
        "        print('func:%r args:[%r, %r] took: %2.4f sec' % \\\n",
        "          (f.__name__, args, kw, te-ts))\n",
        "        return result\n",
        "    return wrap"
      ],
      "metadata": {
        "id": "DbYhqehulUN-"
      },
      "execution_count": null,
      "outputs": []
    },
    {
      "cell_type": "markdown",
      "source": [
        "# Binomial Tree Representation\n",
        "\n",
        "Stock tree can be represented using nodes (i,j) and intial stock price (S0)\n",
        "\n",
        "C(i,j) represents contract price at each node (i,j). Where represents C(Nj) represents final function that we can define.\n"
      ],
      "metadata": {
        "id": "GkL6jkVIlTj8"
      }
    },
    {
      "cell_type": "code",
      "source": [
        "# Initialise parameters\n",
        "S0 = 100      # initial stock price\n",
        "K = 100       # strike price\n",
        "T = 1         # time to maturity in years\n",
        "r = 0.06      # annual risk-free rate\n",
        "N = 3         # number of time steps\n",
        "u = 1.1       # up-factor in binomial models\n",
        "d = 1/u       # ensure recombining tree\n",
        "opttype = 'P' # Option Type 'C' or 'P'"
      ],
      "metadata": {
        "id": "dEyHhs_7lvSK"
      },
      "execution_count": null,
      "outputs": []
    },
    {
      "cell_type": "markdown",
      "source": [
        "# American Tree Slow\n",
        "\n",
        "Here we will use for loops to iterate through nodes j at each time step i."
      ],
      "metadata": {
        "id": "a-iS3JDSmA9R"
      }
    },
    {
      "cell_type": "code",
      "source": [
        "@timing\n",
        "def american_slow_tree(K,T,S0,r,N,u,d,opttype='P'):\n",
        "    #precompute values\n",
        "    dt = T/N\n",
        "    q = (np.exp(r*dt) - d)/(u-d)\n",
        "    disc = np.exp(-r*dt)\n",
        "\n",
        "    # initialise stock prices at maturity\n",
        "    S = np.zeros(N+1)\n",
        "    for j in range(0, N+1):\n",
        "        S[j] = S0 * u**j * d**(N-j)\n",
        "\n",
        "    # option payoff\n",
        "    C = np.zeros(N+1)\n",
        "    for j in range(0, N+1):\n",
        "        if opttype == 'P':\n",
        "            C[j] = max(0, K - S[j])\n",
        "        else:\n",
        "            C[j] = max(0, S[j] - K)\n",
        "\n",
        "    # backward recursion through the tree\n",
        "    for i in np.arange(N-1,-1,-1):\n",
        "        for j in range(0,i+1):\n",
        "            S = S0 * u**j * d**(i-j)\n",
        "            C[j] = disc * ( q*C[j+1] + (1-q)*C[j] )\n",
        "            if opttype == 'P':\n",
        "                C[j] = max(C[j], K - S)\n",
        "            else:\n",
        "                C[j] = max(C[j], S - K)\n",
        "\n",
        "    return C[0]\n",
        "\n",
        "american_slow_tree(K,T,S0,r,N,u,d,opttype='P')"
      ],
      "metadata": {
        "colab": {
          "base_uri": "https://localhost:8080/"
        },
        "id": "LzJMzshfl80Z",
        "outputId": "d7d0cca6-73a9-4df8-8321-f893a705f9de"
      },
      "execution_count": null,
      "outputs": [
        {
          "output_type": "stream",
          "name": "stdout",
          "text": [
            "func:'american_slow_tree' args:[(100, 1, 100, 0.06, 3, 1.1, 0.9090909090909091), {'opttype': 'P'}] took: 0.0002 sec\n"
          ]
        },
        {
          "output_type": "execute_result",
          "data": {
            "text/plain": [
              "np.float64(4.654588754602527)"
            ]
          },
          "metadata": {},
          "execution_count": 7
        }
      ]
    },
    {
      "cell_type": "markdown",
      "source": [
        "# American Tree Fast\n",
        "\n",
        "Now we will vectorise out code using numpy arrays instead of for loops through j nodes."
      ],
      "metadata": {
        "id": "f4LggWeumOob"
      }
    },
    {
      "cell_type": "code",
      "source": [
        "@timing\n",
        "def american_fast_tree(K,T,S0,r,N,u,d,opttype='P'):\n",
        "    #precompute values\n",
        "    dt = T/N\n",
        "    q = (np.exp(r*dt) - d)/(u-d)\n",
        "    disc = np.exp(-r*dt)\n",
        "\n",
        "    # initialise stock prices at maturity\n",
        "    S = S0 * d**(np.arange(N,-1,-1)) * u**(np.arange(0,N+1,1))\n",
        "\n",
        "    # option payoff\n",
        "    if opttype == 'P':\n",
        "        C = np.maximum(0, K - S)\n",
        "    else:\n",
        "        C = np.maximum(0, S - K)\n",
        "\n",
        "    # backward recursion through the tree\n",
        "    for i in np.arange(N-1,-1,-1):\n",
        "        S = S0 * d**(np.arange(i,-1,-1)) * u**(np.arange(0,i+1,1))\n",
        "        C[:i+1] = disc * ( q*C[1:i+2] + (1-q)*C[0:i+1] )\n",
        "        C = C[:-1]\n",
        "        if opttype == 'P':\n",
        "            C = np.maximum(C, K - S)\n",
        "        else:\n",
        "            C = np.maximum(C, S - K)\n",
        "\n",
        "    return C[0]\n",
        "\n",
        "american_fast_tree(K,T,S0,r,N,u,d,opttype='P')"
      ],
      "metadata": {
        "colab": {
          "base_uri": "https://localhost:8080/"
        },
        "id": "2keY12VWmHSW",
        "outputId": "9ae991ba-5440-4cbf-c67c-0b057ae41fd6"
      },
      "execution_count": null,
      "outputs": [
        {
          "output_type": "stream",
          "name": "stdout",
          "text": [
            "func:'american_fast_tree' args:[(100, 1, 100, 0.06, 3, 1.1, 0.9090909090909091), {'opttype': 'P'}] took: 0.0003 sec\n"
          ]
        },
        {
          "output_type": "execute_result",
          "data": {
            "text/plain": [
              "np.float64(4.654588754602527)"
            ]
          },
          "metadata": {},
          "execution_count": 8
        }
      ]
    },
    {
      "cell_type": "markdown",
      "source": [
        "# Binomial Tree Slow vs Fast\n",
        "\n",
        "Now we will compare runtimes for slow vs fast. Ignore option price changes as this is impacted with changing the time steps and keeping the u and d factors the same."
      ],
      "metadata": {
        "id": "h8nsSej6mWO1"
      }
    },
    {
      "cell_type": "code",
      "source": [
        "for N in [3,50, 100, 1000, 5000]:\n",
        "    american_fast_tree(K,T,S0,r,N,u,d,opttype='P')\n",
        "    american_slow_tree(K,T,S0,r,N,u,d,opttype='P')"
      ],
      "metadata": {
        "colab": {
          "base_uri": "https://localhost:8080/"
        },
        "id": "X4Eo5UURmaOm",
        "outputId": "42a92ca0-5236-4e75-c16e-f9de54bbad9c"
      },
      "execution_count": null,
      "outputs": [
        {
          "output_type": "stream",
          "name": "stdout",
          "text": [
            "func:'american_fast_tree' args:[(100, 1, 100, 0.06, 3, 1.1, 0.9090909090909091), {'opttype': 'P'}] took: 0.0012 sec\n",
            "func:'american_slow_tree' args:[(100, 1, 100, 0.06, 3, 1.1, 0.9090909090909091), {'opttype': 'P'}] took: 0.0002 sec\n",
            "func:'american_fast_tree' args:[(100, 1, 100, 0.06, 50, 1.1, 0.9090909090909091), {'opttype': 'P'}] took: 0.0040 sec\n",
            "func:'american_slow_tree' args:[(100, 1, 100, 0.06, 50, 1.1, 0.9090909090909091), {'opttype': 'P'}] took: 0.0060 sec\n",
            "func:'american_fast_tree' args:[(100, 1, 100, 0.06, 100, 1.1, 0.9090909090909091), {'opttype': 'P'}] took: 0.0115 sec\n",
            "func:'american_slow_tree' args:[(100, 1, 100, 0.06, 100, 1.1, 0.9090909090909091), {'opttype': 'P'}] took: 0.0234 sec\n",
            "func:'american_fast_tree' args:[(100, 1, 100, 0.06, 1000, 1.1, 0.9090909090909091), {'opttype': 'P'}] took: 0.0552 sec\n",
            "func:'american_slow_tree' args:[(100, 1, 100, 0.06, 1000, 1.1, 0.9090909090909091), {'opttype': 'P'}] took: 2.7432 sec\n",
            "func:'american_fast_tree' args:[(100, 1, 100, 0.06, 5000, 1.1, 0.9090909090909091), {'opttype': 'P'}] took: 1.7706 sec\n",
            "func:'american_slow_tree' args:[(100, 1, 100, 0.06, 5000, 1.1, 0.9090909090909091), {'opttype': 'P'}] took: 51.0285 sec\n"
          ]
        }
      ]
    }
  ]
}