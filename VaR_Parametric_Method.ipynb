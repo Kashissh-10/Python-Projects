{
  "nbformat": 4,
  "nbformat_minor": 0,
  "metadata": {
    "colab": {
      "provenance": [],
      "authorship_tag": "ABX9TyNq9vfzVg0D5VTyNcAA8Og6"
    },
    "kernelspec": {
      "name": "python3",
      "display_name": "Python 3"
    },
    "language_info": {
      "name": "python"
    }
  },
  "cells": [
    {
      "cell_type": "markdown",
      "source": [
        "# Value at Risk (VaR) - Parametric Method"
      ],
      "metadata": {
        "id": "Jcw_ZUmCKE2v"
      }
    },
    {
      "cell_type": "markdown",
      "source": [
        "# Import necessary libraries"
      ],
      "metadata": {
        "id": "x9zQwqq5KFFw"
      }
    },
    {
      "cell_type": "code",
      "source": [
        "import numpy as np\n",
        "import pandas as pd\n",
        "import datetime as dt\n",
        "import yfinance as yf\n",
        "import matplotlib.pyplot as plt\n",
        "from scipy.stats import norm"
      ],
      "metadata": {
        "id": "0KXgzx-MKFiP"
      },
      "execution_count": null,
      "outputs": []
    },
    {
      "cell_type": "markdown",
      "source": [
        "# Set time from to a certain number of years"
      ],
      "metadata": {
        "id": "6CBfK7WUKPY2"
      }
    },
    {
      "cell_type": "code",
      "source": [
        "years = 15\n",
        "\n",
        "endDate = dt.datetime.now()\n",
        "startDate = endDate - dt.timedelta(days = 365*years)"
      ],
      "metadata": {
        "id": "BGDt_V8QKUdd"
      },
      "execution_count": null,
      "outputs": []
    },
    {
      "cell_type": "markdown",
      "source": [
        "# Create a list of tickers"
      ],
      "metadata": {
        "id": "0rpibummKYzV"
      }
    },
    {
      "cell_type": "code",
      "source": [
        "tickers = ['SPY', 'BND', 'GLD', 'QQQ', 'VTI']"
      ],
      "metadata": {
        "id": "hzK4CwOjKgK4"
      },
      "execution_count": null,
      "outputs": []
    },
    {
      "cell_type": "markdown",
      "source": [
        "# Download the daily adjusted close prices for the tickers"
      ],
      "metadata": {
        "id": "m4EhdAvvKjQB"
      }
    },
    {
      "cell_type": "code",
      "source": [
        "adj_close_df = pd.DataFrame()\n",
        "\n",
        "for ticker in tickers:\n",
        "    data = yf.download(tickers, start = startDate, end = endDate, auto_adjust = False)\n",
        "    adj_close_df = data['Adj Close']"
      ],
      "metadata": {
        "colab": {
          "base_uri": "https://localhost:8080/"
        },
        "id": "L-rHHGJ0Kmbg",
        "outputId": "078d1852-d359-4351-8a36-dc35ca038aa3"
      },
      "execution_count": null,
      "outputs": [
        {
          "output_type": "stream",
          "name": "stderr",
          "text": [
            "[*********************100%***********************]  5 of 5 completed\n",
            "[*********************100%***********************]  5 of 5 completed\n",
            "[*********************100%***********************]  5 of 5 completed\n",
            "[*********************100%***********************]  5 of 5 completed\n",
            "[*********************100%***********************]  5 of 5 completed\n"
          ]
        }
      ]
    },
    {
      "cell_type": "code",
      "source": [
        "print(adj_close_df)"
      ],
      "metadata": {
        "colab": {
          "base_uri": "https://localhost:8080/"
        },
        "id": "7D_lObmvK5nG",
        "outputId": "e2a1c6cb-ddda-49ce-ab36-ffec651966c5"
      },
      "execution_count": null,
      "outputs": [
        {
          "output_type": "stream",
          "name": "stdout",
          "text": [
            "Ticker            BND         GLD         QQQ         SPY         VTI\n",
            "Date                                                                 \n",
            "2010-06-14  52.309723  119.599998   39.717060   83.218742   42.766830\n",
            "2010-06-15  52.218628  120.989998   40.782234   85.110947   43.729088\n",
            "2010-06-16  52.342300  120.330002   40.948120   85.080551   43.683262\n",
            "2010-06-17  52.485439  121.900002   41.079090   85.217331   43.759632\n",
            "2010-06-18  52.465916  122.830002   41.113190   85.309731   43.790173\n",
            "...               ...         ...         ...         ...         ...\n",
            "2025-06-02  72.370003  311.670013  523.210022  592.710022  291.359985\n",
            "2025-06-03  72.290001  308.910004  527.299988  596.090027  293.369995\n",
            "2025-06-04  72.739998  310.899994  528.770020  595.929993  293.339996\n",
            "2025-06-05  72.599998  309.329987  524.789978  593.049988  291.720001\n",
            "2025-06-06  72.209999  305.179993  529.919983  599.140015  295.119995\n",
            "\n",
            "[3770 rows x 5 columns]\n"
          ]
        }
      ]
    },
    {
      "cell_type": "markdown",
      "source": [
        "# Calculate the daily log returns and drop any NAs"
      ],
      "metadata": {
        "id": "NLIQGF-rK9fW"
      }
    },
    {
      "cell_type": "code",
      "source": [
        "log_returns = np.log(adj_close_df / adj_close_df.shift(1))\n",
        "log_returns = log_returns.dropna()\n",
        "\n",
        "print(log_returns)"
      ],
      "metadata": {
        "colab": {
          "base_uri": "https://localhost:8080/"
        },
        "id": "WvMbLAM-LMXw",
        "outputId": "fd8bad02-0e52-4e71-bc4d-4282e619cbbe"
      },
      "execution_count": null,
      "outputs": [
        {
          "output_type": "stream",
          "name": "stdout",
          "text": [
            "Ticker           BND       GLD       QQQ       SPY       VTI\n",
            "Date                                                        \n",
            "2010-06-15 -0.001743  0.011555  0.026466  0.022483  0.022251\n",
            "2010-06-16  0.002366 -0.005470  0.004059 -0.000357 -0.001049\n",
            "2010-06-17  0.002731  0.012963  0.003193  0.001606  0.001747\n",
            "2010-06-18 -0.000372  0.007600  0.000830  0.001084  0.000698\n",
            "2010-06-21  0.000249 -0.020065 -0.008547 -0.002868 -0.003844\n",
            "...              ...       ...       ...       ...       ...\n",
            "2025-06-02 -0.002208  0.026234  0.007867  0.005617  0.005093\n",
            "2025-06-03 -0.001106 -0.008895  0.007787  0.005686  0.006875\n",
            "2025-06-04  0.006206  0.006421  0.002784 -0.000269 -0.000102\n",
            "2025-06-05 -0.001927 -0.005063 -0.007555 -0.004845 -0.005538\n",
            "2025-06-06 -0.005386 -0.013507  0.009728  0.010217  0.011588\n",
            "\n",
            "[3769 rows x 5 columns]\n"
          ]
        }
      ]
    },
    {
      "cell_type": "markdown",
      "source": [
        "# Create an equally weighted portfolio"
      ],
      "metadata": {
        "id": "p28HNCxWLQcg"
      }
    },
    {
      "cell_type": "code",
      "source": [
        "portfolio_value = 1000000\n",
        "weights = np.array([1/len(tickers)]*len(tickers))\n",
        "print(weights)"
      ],
      "metadata": {
        "colab": {
          "base_uri": "https://localhost:8080/"
        },
        "id": "52b9U_xILhaT",
        "outputId": "7efe1905-ccdc-4859-d846-f7e28c66f637"
      },
      "execution_count": null,
      "outputs": [
        {
          "output_type": "stream",
          "name": "stdout",
          "text": [
            "[0.2 0.2 0.2 0.2 0.2]\n"
          ]
        }
      ]
    },
    {
      "cell_type": "markdown",
      "source": [
        "# Calculate the historical portfolio returns"
      ],
      "metadata": {
        "id": "2lqrh-DWLkjr"
      }
    },
    {
      "cell_type": "code",
      "source": [
        "historical_returns = (log_returns * weights).sum(axis=1)\n",
        "print(historical_returns)"
      ],
      "metadata": {
        "colab": {
          "base_uri": "https://localhost:8080/"
        },
        "id": "3a1n0KyyLohD",
        "outputId": "8bd7e271-7934-43a0-d923-7a69ef8a5589"
      },
      "execution_count": null,
      "outputs": [
        {
          "output_type": "stream",
          "name": "stdout",
          "text": [
            "Date\n",
            "2010-06-15    0.016202\n",
            "2010-06-16   -0.000090\n",
            "2010-06-17    0.004448\n",
            "2010-06-18    0.001968\n",
            "2010-06-21   -0.007015\n",
            "                ...   \n",
            "2025-06-02    0.008520\n",
            "2025-06-03    0.002069\n",
            "2025-06-04    0.003008\n",
            "2025-06-05   -0.004985\n",
            "2025-06-06    0.002528\n",
            "Length: 3769, dtype: float64\n"
          ]
        }
      ]
    },
    {
      "cell_type": "markdown",
      "source": [
        "# Find the X-day historical returns"
      ],
      "metadata": {
        "id": "cP7VgA-XLsOT"
      }
    },
    {
      "cell_type": "code",
      "source": [
        "days = 5\n",
        "\n",
        "historical_x_day_returns = historical_returns.rolling(window = days).sum()"
      ],
      "metadata": {
        "id": "-RzxHxrRLv_j"
      },
      "execution_count": null,
      "outputs": []
    },
    {
      "cell_type": "markdown",
      "source": [
        "# Create a covariance matrix for all securities"
      ],
      "metadata": {
        "id": "A6Ey42WTMxJd"
      }
    },
    {
      "cell_type": "code",
      "source": [
        "cov_matrix = log_returns.cov()"
      ],
      "metadata": {
        "id": "GZK5IJcmM369"
      },
      "execution_count": null,
      "outputs": []
    },
    {
      "cell_type": "markdown",
      "source": [
        "# Calculate portfolio standard deviation"
      ],
      "metadata": {
        "id": "VgtW26vKM5iW"
      }
    },
    {
      "cell_type": "code",
      "source": [
        "portfolio_std_dev = np.sqrt(weights.T @ cov_matrix @ weights)"
      ],
      "metadata": {
        "id": "d3jO4xNyM_7G"
      },
      "execution_count": null,
      "outputs": []
    },
    {
      "cell_type": "markdown",
      "source": [
        "# Set different confidence levels to visualize"
      ],
      "metadata": {
        "id": "3SvcWup7NAvP"
      }
    },
    {
      "cell_type": "code",
      "source": [
        "confidence_levels = [0.9, 0.95, 0.99]"
      ],
      "metadata": {
        "id": "I02s5jIKNIZr"
      },
      "execution_count": null,
      "outputs": []
    },
    {
      "cell_type": "markdown",
      "source": [
        "# Calculate VaR with different confidence levels"
      ],
      "metadata": {
        "id": "D705pJ6kNvFU"
      }
    },
    {
      "cell_type": "code",
      "source": [
        "from scipy.stats import norm\n",
        "\n",
        "confidence_levels = [0.90, 0.95, 0.99]\n",
        "\n",
        "VaRs = []\n",
        "for cl in confidence_levels:\n",
        "    VaR = portfolio_value * (norm.ppf(1 - cl) * portfolio_std_dev * np.sqrt(days / 252) - historical_returns.mean() * days)\n",
        "    VaRs.append(VaR)"
      ],
      "metadata": {
        "id": "YSu3RFJ3N06B"
      },
      "execution_count": null,
      "outputs": []
    },
    {
      "cell_type": "markdown",
      "source": [
        "# Print out the VaR results"
      ],
      "metadata": {
        "id": "PRFlxL8yN2c-"
      }
    },
    {
      "cell_type": "code",
      "source": [
        "print(f'{\"Confidence Level\":<20} {\"Value at Risk\":<20}')\n",
        "print('-' * 40)\n",
        "\n",
        "for cl, VaR in zip(confidence_levels, VaRs):\n",
        "    print(f'{cl * 100:>6.0f}%: {\"\":<8} ${VaR:>10,.2f}')"
      ],
      "metadata": {
        "colab": {
          "base_uri": "https://localhost:8080/"
        },
        "id": "lE3moeHPN6pU",
        "outputId": "504354da-4f19-4e63-e7b5-bfef3b0b9d00"
      },
      "execution_count": null,
      "outputs": [
        {
          "output_type": "stream",
          "name": "stdout",
          "text": [
            "Confidence Level     Value at Risk       \n",
            "----------------------------------------\n",
            "    90%:          $ -3,391.92\n",
            "    95%:          $ -3,770.13\n",
            "    99%:          $ -4,479.59\n"
          ]
        }
      ]
    },
    {
      "cell_type": "markdown",
      "source": [
        "# Plot the Distribution of Portfolio Returns and Parametric VaR Estimates"
      ],
      "metadata": {
        "id": "PsX4f82pRkhi"
      }
    },
    {
      "cell_type": "code",
      "source": [
        "# Convert returns to dollar values for the histogram\n",
        "historical_x_day_returns_dollar = historical_x_day_returns * portfolio_value\n",
        "\n",
        "# Plot the histogram\n",
        "plt.hist(historical_x_day_returns_dollar, bins=50, density=True, alpha=0.5, label=f'{days}-Day Returns')\n",
        "\n",
        "# Add vertical lines representing VaR at each confidence level\n",
        "for cl, VaR in zip(confidence_levels, VaRs):\n",
        "    plt.axvline(x=-VaR, linestyle='--', color='r', label='VaR at {}% Confidence'.format(int(cl * 100)))\n",
        "\n",
        "plt.xlabel(f'{days}-Day Portfolio Return ($)')\n",
        "plt.ylabel('Frequency')\n",
        "plt.title(f'Distribution of Portfolio {days}-Day Returns and Parametric VaR Estimates')\n",
        "plt.legend()\n",
        "plt.show()"
      ],
      "metadata": {
        "colab": {
          "base_uri": "https://localhost:8080/",
          "height": 487
        },
        "id": "uZ_-nNKW4P9L",
        "outputId": "5ab8ff71-7ebd-45bd-c938-3fa5d3c4bae3"
      },
      "execution_count": null,
      "outputs": [
        {
          "output_type": "display_data",
          "data": {
            "text/plain": [
              "<Figure size 640x480 with 1 Axes>"
            ],
            "image/png": "[encoded data removed]"
          },
          "metadata": {}
        }
      ]
    }
  ]
}