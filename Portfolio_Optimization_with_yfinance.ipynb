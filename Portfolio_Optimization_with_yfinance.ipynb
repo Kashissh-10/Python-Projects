{
  "nbformat": 4,
  "nbformat_minor": 0,
  "metadata": {
    "colab": {
      "provenance": [],
      "authorship_tag": "ABX9TyNENzVjj6CB2Ta1WVcv800e",
      "include_colab_link": true
    },
    "kernelspec": {
      "name": "python3",
      "display_name": "Python 3"
    },
    "language_info": {
      "name": "python"
    }
  },
  "cells": [
    {
      "cell_type": "markdown",
      "metadata": {
        "id": "view-in-github",
        "colab_type": "text"
      },
      "source": [
        "<a href=\"https://colab.research.google.com/github/Kashissh-10/Python-Projects/blob/main/Portfolio_Optimization_with_yfinance.ipynb\" target=\"_parent\"><img src=\"https://colab.research.google.com/assets/colab-badge.svg\" alt=\"Open In Colab\"/></a>"
      ]
    },
    {
      "cell_type": "markdown",
      "source": [
        "# Portfolio Optimization"
      ],
      "metadata": {
        "id": "A6RDSswIeg4d"
      }
    },
    {
      "cell_type": "markdown",
      "source": [
        "# Import Required Libraries"
      ],
      "metadata": {
        "id": "TYgEQfyPeuzF"
      }
    },
    {
      "cell_type": "code",
      "source": [
        "import yfinance as yf\n",
        "import pandas as pd\n",
        "from datetime import datetime, timedelta\n",
        "import numpy as np\n",
        "from scipy.optimize import minimize"
      ],
      "metadata": {
        "id": "8Rl1QmM7fC_l"
      },
      "execution_count": null,
      "outputs": []
    },
    {
      "cell_type": "markdown",
      "source": [
        "#Section 1 : Define Tickers and Time Range"
      ],
      "metadata": {
        "id": "nr3NyqBafzV0"
      }
    },
    {
      "cell_type": "markdown",
      "source": [
        "# Define the list of tickers"
      ],
      "metadata": {
        "id": "71Ap1y31f9pD"
      }
    },
    {
      "cell_type": "code",
      "source": [
        "tickers = ['SPY', 'BND', 'GLD', 'QQQ', 'VTI']"
      ],
      "metadata": {
        "id": "BWqpvsusgPIa"
      },
      "execution_count": null,
      "outputs": []
    },
    {
      "cell_type": "markdown",
      "source": [
        "# Set the end date to today"
      ],
      "metadata": {
        "id": "rtjKKiQfgPdn"
      }
    },
    {
      "cell_type": "code",
      "source": [
        "end_date = datetime.today()"
      ],
      "metadata": {
        "id": "s3vFs1j0gSjI"
      },
      "execution_count": null,
      "outputs": []
    },
    {
      "cell_type": "markdown",
      "source": [
        "# Set the start date to 8 years ago"
      ],
      "metadata": {
        "id": "Hy7Bh3ochJMp"
      }
    },
    {
      "cell_type": "code",
      "source": [
        "start_date = end_date - timedelta(days = 8*365)\n",
        "print(start_date)"
      ],
      "metadata": {
        "colab": {
          "base_uri": "https://localhost:8080/"
        },
        "id": "HNfMIjuwhNKi",
        "outputId": "15fa374e-8aa8-4535-b05b-66c8dc382c3d"
      },
      "execution_count": null,
      "outputs": [
        {
          "output_type": "stream",
          "name": "stdout",
          "text": [
            "2017-06-07 11:12:19.622319\n"
          ]
        }
      ]
    },
    {
      "cell_type": "markdown",
      "source": [
        "# Section 2 : Download Adjusted Close Prices"
      ],
      "metadata": {
        "id": "bzjEZy9_hOhY"
      }
    },
    {
      "cell_type": "markdown",
      "source": [
        "# Create an empty DataFrame to store the adjusted close prices"
      ],
      "metadata": {
        "id": "NU7D4nodhYGG"
      }
    },
    {
      "cell_type": "code",
      "source": [
        "adj_close_df = pd.DataFrame()"
      ],
      "metadata": {
        "id": "0KH3ycC2hWo5"
      },
      "execution_count": null,
      "outputs": []
    },
    {
      "cell_type": "markdown",
      "source": [
        "# Download the close prices for each ticker"
      ],
      "metadata": {
        "id": "m6mcVU7_hhC9"
      }
    },
    {
      "cell_type": "code",
      "source": [
        "for ticker in tickers:\n",
        "    data = yf.download(tickers, start = start_date, end = end_date, auto_adjust = False)\n",
        "    adj_close_df = data['Adj Close']\n",
        "\n"
      ],
      "metadata": {
        "colab": {
          "base_uri": "https://localhost:8080/"
        },
        "id": "7GxDVzvMritI",
        "outputId": "8e44a048-7e84-46a4-84b7-e294742bfe70"
      },
      "execution_count": null,
      "outputs": [
        {
          "output_type": "stream",
          "name": "stderr",
          "text": [
            "[*********************100%***********************]  5 of 5 completed\n",
            "[*********************100%***********************]  5 of 5 completed\n",
            "[*********************100%***********************]  5 of 5 completed\n",
            "[*********************100%***********************]  5 of 5 completed\n",
            "[*********************100%***********************]  5 of 5 completed\n"
          ]
        }
      ]
    },
    {
      "cell_type": "markdown",
      "source": [
        "# Display the DataFrame"
      ],
      "metadata": {
        "id": "OTPhE60drjPO"
      }
    },
    {
      "cell_type": "code",
      "source": [
        "print(adj_close_df)"
      ],
      "metadata": {
        "colab": {
          "base_uri": "https://localhost:8080/"
        },
        "id": "8PuHsWyHrpET",
        "outputId": "04214af9-c054-4728-8622-38c4480001d1"
      },
      "execution_count": null,
      "outputs": [
        {
          "output_type": "stream",
          "name": "stdout",
          "text": [
            "Ticker            BND         GLD         QQQ         SPY         VTI\n",
            "Date                                                                 \n",
            "2017-06-07  65.087242  122.449997  135.643967  213.708618  109.681129\n",
            "2017-06-08  65.039650  121.650002  135.785889  213.813889  109.874046\n",
            "2017-06-09  64.984070  120.540001  132.390472  213.489380  109.786385\n",
            "2017-06-12  64.968224  120.360001  131.681198  213.445511  109.768829\n",
            "2017-06-13  64.984070  120.480003  132.749893  214.489227  110.312538\n",
            "...               ...         ...         ...         ...         ...\n",
            "2025-05-29  72.390457  305.609985  519.929993  590.049988  290.119995\n",
            "2025-05-30  72.529999  303.600006  519.109985  589.390015  289.880005\n",
            "2025-06-02  72.370003  311.670013  523.210022  592.710022  291.359985\n",
            "2025-06-03  72.290001  308.910004  527.299988  596.090027  293.369995\n",
            "2025-06-04  72.739998  310.899994  528.770020  595.929993  293.339996\n",
            "\n",
            "[2010 rows x 5 columns]\n"
          ]
        }
      ]
    },
    {
      "cell_type": "markdown",
      "source": [
        "## Section 3 : Calculate Lognormal Returns"
      ],
      "metadata": {
        "id": "wp1dafRWtYro"
      }
    },
    {
      "cell_type": "markdown",
      "source": [
        "# Calculate the lognormal returns for each ticker"
      ],
      "metadata": {
        "id": "bYA2M3DrtieX"
      }
    },
    {
      "cell_type": "code",
      "source": [
        "log_returns = np.log(adj_close_df / adj_close_df.shift(1))"
      ],
      "metadata": {
        "id": "hKpRnn41t6t1"
      },
      "execution_count": null,
      "outputs": []
    },
    {
      "cell_type": "markdown",
      "source": [
        "# Drop any missing values"
      ],
      "metadata": {
        "id": "VZ7MtYeZt7ST"
      }
    },
    {
      "cell_type": "code",
      "source": [
        "log_returns = log_returns.dropna()"
      ],
      "metadata": {
        "id": "zVigDP4ot_W9"
      },
      "execution_count": null,
      "outputs": []
    },
    {
      "cell_type": "markdown",
      "source": [
        "# Section 4 : Calculate Covariance Matrix"
      ],
      "metadata": {
        "id": "zN-WjLJguBSC"
      }
    },
    {
      "cell_type": "markdown",
      "source": [
        "# Calculate the covariance matricx using annualized log returns\n",
        "\n",
        "\n",
        "\n"
      ],
      "metadata": {
        "id": "UhuWvNRfuyzx"
      }
    },
    {
      "cell_type": "code",
      "source": [
        "cov_matrix = log_returns.cov()*252\n",
        "print(cov_matrix)"
      ],
      "metadata": {
        "colab": {
          "base_uri": "https://localhost:8080/"
        },
        "id": "79VFcvaHvGIs",
        "outputId": "846588af-afde-4786-8e54-8fa201a285de"
      },
      "execution_count": null,
      "outputs": [
        {
          "output_type": "stream",
          "name": "stdout",
          "text": [
            "Ticker       BND       GLD       QQQ       SPY       VTI\n",
            "Ticker                                                  \n",
            "BND     0.003518  0.002866  0.002081  0.001736  0.001852\n",
            "GLD     0.002866  0.020894  0.003660  0.002642  0.002778\n",
            "QQQ     0.002081  0.003660  0.057536  0.043445  0.044059\n",
            "SPY     0.001736  0.002642  0.043445  0.037530  0.038117\n",
            "VTI     0.001852  0.002778  0.044059  0.038117  0.039016\n"
          ]
        }
      ]
    },
    {
      "cell_type": "markdown",
      "source": [
        "# Section 5 : Define Portfolio Performance Metrics"
      ],
      "metadata": {
        "id": "M8P4pifAvG3M"
      }
    },
    {
      "cell_type": "markdown",
      "source": [
        "# Calculate the portfolio standard deviation\n",
        "\n"
      ],
      "metadata": {
        "id": "k-CzCupwvOp2"
      }
    },
    {
      "cell_type": "markdown",
      "source": [
        "This line of code calculates the portfolio variance, which is a measure of the risk associated with a portfolio of assets. It represents the combined volatility of the assets with each other."
      ],
      "metadata": {
        "id": "KoliDY1DvxVc"
      }
    },
    {
      "cell_type": "code",
      "source": [
        "def standard_deviation (weights, cov_matrix):\n",
        "    variance = weights.T @ cov_matrix @ weights\n",
        "    return np.sqrt(variance)"
      ],
      "metadata": {
        "id": "U4So9VSwvPMu"
      },
      "execution_count": null,
      "outputs": []
    },
    {
      "cell_type": "markdown",
      "source": [
        "# Calculate the expected return"
      ],
      "metadata": {
        "id": "974pq6w7yghi"
      }
    },
    {
      "cell_type": "markdown",
      "source": [
        "*Key Assumption : Expected returns are based on historical returns"
      ],
      "metadata": {
        "id": "5olU0WDuytgc"
      }
    },
    {
      "cell_type": "code",
      "source": [
        "def expected_returns (weights, log_returns):\n",
        "    return np.sum(log_returns.mean()*weights)*252"
      ],
      "metadata": {
        "id": "QS2vcK_Oyhe1"
      },
      "execution_count": null,
      "outputs": []
    },
    {
      "cell_type": "markdown",
      "source": [
        "# Calculate the Sharpe Ratio"
      ],
      "metadata": {
        "id": "0S6rfa5vy7Lm"
      }
    },
    {
      "cell_type": "code",
      "source": [
        "def sharpe_ratio (weights, log_returns, cov_matrix, risk_free_rate):\n",
        "    return(expected_returns (weights, log_returns) - risk_free_rate) / standard_deviation (weights, cov_matrix)"
      ],
      "metadata": {
        "id": "o_AiNy92zDmA"
      },
      "execution_count": null,
      "outputs": []
    },
    {
      "cell_type": "markdown",
      "source": [
        "# Section 6 : Portfolio Optmization"
      ],
      "metadata": {
        "id": "0Q5-NqwtzEHP"
      }
    },
    {
      "cell_type": "markdown",
      "source": [
        "# Set the risk-free rate"
      ],
      "metadata": {
        "id": "Aml61-PUzLxL"
      }
    },
    {
      "cell_type": "code",
      "source": [
        "risk_free_rate = 0.04"
      ],
      "metadata": {
        "id": "riBahOM8zJ5S"
      },
      "execution_count": null,
      "outputs": []
    },
    {
      "cell_type": "code",
      "source": [
        "# Install the fredapi library\n",
        "!pip install fredapi\n",
        "\n",
        "from IPython import get_ipython\n",
        "from IPython.display import display"
      ],
      "metadata": {
        "colab": {
          "base_uri": "https://localhost:8080/"
        },
        "id": "Q4u2mQU52rjP",
        "outputId": "5c1c73bb-a45e-4c8a-a0e1-c9c5cded387a"
      },
      "execution_count": null,
      "outputs": [
        {
          "output_type": "stream",
          "name": "stdout",
          "text": [
            "Collecting fredapi\n",
            "  Downloading fredapi-0.5.2-py3-none-any.whl.metadata (5.0 kB)\n",
            "Requirement already satisfied: pandas in /usr/local/lib/python3.11/dist-packages (from fredapi) (2.2.2)\n",
            "Requirement already satisfied: numpy>=1.23.2 in /usr/local/lib/python3.11/dist-packages (from pandas->fredapi) (2.0.2)\n",
            "Requirement already satisfied: python-dateutil>=2.8.2 in /usr/local/lib/python3.11/dist-packages (from pandas->fredapi) (2.9.0.post0)\n",
            "Requirement already satisfied: pytz>=2020.1 in /usr/local/lib/python3.11/dist-packages (from pandas->fredapi) (2025.2)\n",
            "Requirement already satisfied: tzdata>=2022.7 in /usr/local/lib/python3.11/dist-packages (from pandas->fredapi) (2025.2)\n",
            "Requirement already satisfied: six>=1.5 in /usr/local/lib/python3.11/dist-packages (from python-dateutil>=2.8.2->pandas->fredapi) (1.17.0)\n",
            "Downloading fredapi-0.5.2-py3-none-any.whl (11 kB)\n",
            "Installing collected packages: fredapi\n",
            "Successfully installed fredapi-0.5.2\n"
          ]
        }
      ]
    },
    {
      "cell_type": "code",
      "source": [
        "from fredapi import fred\n",
        "\n",
        "# Replace 'your_api_key' with your actual FRED API key\n",
        "fred = fred.Fred(api_key = '68cc8affa24004d2fc9acaea479c21dc')\n",
        "ten_year_treasury_rate = fred.get_series_latest_release('GS10') / 100\n",
        "\n",
        "# Set the risk-free rate\n",
        "risk_free_rate = ten_year_treasury_rate.iloc[-1]\n",
        "print(risk_free_rate)"
      ],
      "metadata": {
        "colab": {
          "base_uri": "https://localhost:8080/"
        },
        "id": "MzlXqa4F8-m3",
        "outputId": "6d0f8434-9258-4f0f-c4d0-8c8725c1654f"
      },
      "execution_count": null,
      "outputs": [
        {
          "output_type": "stream",
          "name": "stdout",
          "text": [
            "0.044199999999999996\n"
          ]
        }
      ]
    },
    {
      "cell_type": "markdown",
      "source": [
        "# Define the function to minimize (negative Sharpe Ratio)"
      ],
      "metadata": {
        "id": "UObjeWh_3dre"
      }
    },
    {
      "cell_type": "markdown",
      "source": [
        "In the case of the scipy.optimize.minimize() function, there is no direct method to find the maximum value of a function"
      ],
      "metadata": {
        "id": "3s3Q0hBE3pNG"
      }
    },
    {
      "cell_type": "code",
      "source": [
        "def neg_sharpe_ratio(weights, log_returns, cov_matrix, risk_free_rate):\n",
        "    return -sharpe_ratio(weights, log_returns, cov_matrix, risk_free_rate)"
      ],
      "metadata": {
        "id": "2jXmS4i15lIi"
      },
      "execution_count": null,
      "outputs": []
    },
    {
      "cell_type": "markdown",
      "source": [
        "# Set the constraints and bounds"
      ],
      "metadata": {
        "id": "LOhxFSPn5l4E"
      }
    },
    {
      "cell_type": "markdown",
      "source": [
        "Constraints are conditions that must be met by th solution during the optimization process. In this case, the constraint is that the sum of all portfolio weights must be equal to 1. The constarints variable is a dictionery with two keys: 'type' and 'fun'. 'type' is set to 'eq' which meaans \"equality constraint\", and 'fun' is assigned the function check_sum, which checks if the sum of the portfolio weights equals 1.\n",
        "\n",
        "\n",
        "Bounds are the limits placed on the variables during the optimization process. In this case, the variables are the portfolio weights, and each weight should be between 0 and 1."
      ],
      "metadata": {
        "id": "Nog1aJRB5s4d"
      }
    },
    {
      "cell_type": "code",
      "source": [
        "constraints = ({'type': 'eq', 'fun': lambda weights: np.sum(weights) - 1 })\n",
        "bounds = [(0, 0.4) for _ in range(len(tickers))]"
      ],
      "metadata": {
        "id": "bXTgNiEj_lAO"
      },
      "execution_count": null,
      "outputs": []
    },
    {
      "cell_type": "markdown",
      "source": [
        "# Set the initial weights"
      ],
      "metadata": {
        "id": "RHBSiBJ2AKG6"
      }
    },
    {
      "cell_type": "code",
      "source": [
        "initial_weights = np.array([1/len(tickers)]*len(tickers))\n",
        "print(initial_weights)"
      ],
      "metadata": {
        "colab": {
          "base_uri": "https://localhost:8080/"
        },
        "id": "YbPbhQHOBZqs",
        "outputId": "8b0d241b-8046-4a76-f5b7-c474f46194e0"
      },
      "execution_count": null,
      "outputs": [
        {
          "output_type": "stream",
          "name": "stdout",
          "text": [
            "[0.2 0.2 0.2 0.2 0.2]\n"
          ]
        }
      ]
    },
    {
      "cell_type": "markdown",
      "source": [
        "# Optimize weights to maximize the Sharpe Ratio"
      ],
      "metadata": {
        "id": "orw_4Xe8BbWW"
      }
    },
    {
      "cell_type": "markdown",
      "source": [
        "'SLSQP' stands for Sequential Least Squares Quadratic Programming, which is a numerical optimization technique suitable for solving nonlinear optimization problem."
      ],
      "metadata": {
        "id": "ANwlpW5rBuRB"
      }
    },
    {
      "cell_type": "code",
      "source": [
        "optimized_results = minimize(neg_sharpe_ratio, initial_weights, args = (log_returns, cov_matrix, risk_free_rate), method = 'SLSQP', constraints = constraints, bounds = bounds)\n"
      ],
      "metadata": {
        "id": "QTS7pqzHBjcA"
      },
      "execution_count": null,
      "outputs": []
    },
    {
      "cell_type": "markdown",
      "source": [
        "# Get the optimal weights"
      ],
      "metadata": {
        "id": "BAdCcVyoBnQ0"
      }
    },
    {
      "cell_type": "code",
      "source": [
        "optimal_weights = optimized_results.x"
      ],
      "metadata": {
        "id": "jYlYd3DKBs5E"
      },
      "execution_count": null,
      "outputs": []
    },
    {
      "cell_type": "markdown",
      "source": [
        "# Section 7 : Analyze the Optimal Portfolio"
      ],
      "metadata": {
        "id": "J0sWwETPNH4u"
      }
    },
    {
      "cell_type": "markdown",
      "source": [
        "# Display analytics of the optimal portfolio"
      ],
      "metadata": {
        "id": "Eh8uhm1wNP5d"
      }
    },
    {
      "cell_type": "code",
      "source": [
        "print(\"Optimal Weights:\")\n",
        "for ticker, weight in zip(tickers, optimal_weights):\n",
        "    print(f\"{ticker}: {weight:.4f}\")\n",
        "\n",
        "print()\n",
        "\n",
        "optimal_portfolio_return = expected_returns(optimal_weights, log_returns)\n",
        "optimal_portfolio_volatility = standard_deviation(optimal_weights, cov_matrix)\n",
        "optimal_sharpe_ratio = sharpe_ratio(optimal_weights, log_returns, cov_matrix, risk_free_rate)\n",
        "\n",
        "print(f\"Expected_Annual_Return: {optimal_portfolio_return:.4f}\")\n",
        "print(f\"Expected_Volatlity: {optimal_portfolio_volatility:.4f}\")\n",
        "print(f\"Sharpe_Ratio: {optimal_sharpe_ratio:.4f}\")\n"
      ],
      "metadata": {
        "colab": {
          "base_uri": "https://localhost:8080/"
        },
        "id": "QS5uZsLqOtnb",
        "outputId": "1a7dfb2b-fd9e-4810-d544-df28e353222d"
      },
      "execution_count": null,
      "outputs": [
        {
          "output_type": "stream",
          "name": "stdout",
          "text": [
            "Optimal Weights:\n",
            "SPY: 0.0000\n",
            "BND: 0.4000\n",
            "GLD: 0.4000\n",
            "QQQ: 0.2000\n",
            "VTI: 0.0000\n",
            "\n",
            "Expected_Annual_Return: 0.1407\n",
            "Expected_Volatlity: 0.1503\n",
            "Sharpe_Ratio: 0.6422\n"
          ]
        }
      ]
    },
    {
      "cell_type": "markdown",
      "source": [
        "# Dislay the final portfolio in a plot"
      ],
      "metadata": {
        "id": "PXTyU_INSMBM"
      }
    },
    {
      "cell_type": "code",
      "source": [
        "# Import the required library\n",
        "import matplotlib.pyplot as plt\n",
        "\n",
        "# Create a bar chart of the optimal weights\n",
        "plt.figure(figsize=(10,6))\n",
        "plt.bar(tickers, optimal_weights)\n",
        "\n",
        "# Add labels and a title\n",
        "plt.xlabel('Assets')\n",
        "plt.ylabel('Optimal_Weights')\n",
        "plt.title('Optimal_Portfolio')\n",
        "\n",
        "# Display the chart\n",
        "plt.show()\n"
      ],
      "metadata": {
        "colab": {
          "base_uri": "https://localhost:8080/",
          "height": 564
        },
        "id": "dDiw10_2STHU",
        "outputId": "bf32fd3a-8d93-4b8d-df25-338895f11c0f"
      },
      "execution_count": null,
      "outputs": [
        {
          "output_type": "display_data",
          "data": {
            "text/plain": [
              "<Figure size 1000x600 with 1 Axes>"
            ],
            "image/png": "[encoded data removed]"
          },
          "metadata": {}
        }
      ]
    }
  ]
}