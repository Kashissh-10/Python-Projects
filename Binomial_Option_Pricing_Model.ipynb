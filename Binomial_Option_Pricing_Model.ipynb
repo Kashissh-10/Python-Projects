{
  "nbformat": 4,
  "nbformat_minor": 0,
  "metadata": {
    "colab": {
      "provenance": [],
      "authorship_tag": "ABX9TyO2N7mOWVa/5VVRlZ3sdpFk"
    },
    "kernelspec": {
      "name": "python3",
      "display_name": "Python 3"
    },
    "language_info": {
      "name": "python"
    }
  },
  "cells": [
    {
      "cell_type": "markdown",
      "source": [
        "# Binomial Tree Option Pricing"
      ],
      "metadata": {
        "id": "Q28RlzLRfUQC"
      }
    },
    {
      "cell_type": "markdown",
      "source": [
        "The following model implements a simple slow and fast binomial pricing model in python.\n",
        "\n",
        "We will treat binomial tree as a network with nodes (i,j) with i representing the time steps and j representing the number of ordered price outcome (lowest - or bottom of tree - to highest).\n",
        "\n",
        "* binomial_tree_slow\n",
        "* binomial_tree_fast\n",
        "\n",
        "A generic timing wrapper function will be used to judge the time performance of using numpy arrays over for loops to iterate over j nodes in each time step i."
      ],
      "metadata": {
        "id": "cTErw787eOOQ"
      }
    },
    {
      "cell_type": "code",
      "execution_count": null,
      "metadata": {
        "id": "2sIwp6IqdmtM"
      },
      "outputs": [],
      "source": [
        "import numpy as np\n",
        "\n",
        "from functools import wraps\n",
        "from time import time\n",
        "\n",
        "def timing(f):\n",
        "    @wraps(f)\n",
        "    def wrap(*args, **kw):\n",
        "        ts = time()\n",
        "        result = f(*args, **kw)\n",
        "        te = time()\n",
        "        print('func:%r args:[%r, %r] took: %2.4f sec' % \\\n",
        "          (f.__name__, args, kw, te-ts))\n",
        "        return result\n",
        "    return wrap\n"
      ]
    },
    {
      "cell_type": "markdown",
      "source": [
        "# Binomial Tree Representation\n",
        "\n",
        "Stock tree can be represented using nodes (i,j) and intial stock price (S0)\n",
        "\n",
        "C(i,j) represents contract price at each node (i,j). Where represents C(Nj) represents final function that we can define."
      ],
      "metadata": {
        "id": "3Ko0NXk-eMyi"
      }
    },
    {
      "cell_type": "code",
      "source": [
        "# Initialise parameters\n",
        "\n",
        "S0 = 100      # initial stock price\n",
        "K = 100       # strike price\n",
        "T = 1         # time to maturity in years\n",
        "r = 0.06      # annual risk-free rate\n",
        "N = 3         # number of time steps\n",
        "u = 1.1       # up-factor in binomial models\n",
        "d = 1/u       # ensure recombining tree\n",
        "opttype = 'C' # Option Type 'C' or 'P'"
      ],
      "metadata": {
        "id": "LztfpKxjeK0M"
      },
      "execution_count": null,
      "outputs": []
    },
    {
      "cell_type": "markdown",
      "source": [
        "# Binomial Tree Slow\n",
        "\n",
        "For the binomial tree slow, we will use for loops to iterate through nodes j at each time step i."
      ],
      "metadata": {
        "id": "zC9P0Q6JeYiT"
      }
    },
    {
      "cell_type": "code",
      "source": [
        "@timing\n",
        "def binomial_tree_slow(K,T,S0,r,N,u,d,opttype='C'):\n",
        "    #precompute constants\n",
        "    dt = T/N\n",
        "    q = (np.exp(r*dt) - d) / (u-d)\n",
        "    disc = np.exp(-r*dt)\n",
        "\n",
        "    # initialise asset prices at maturity - Time step N\n",
        "    S = np.zeros(N+1)\n",
        "    S[0] = S0*d**N\n",
        "    for j in range(1,N+1):\n",
        "        S[j] = S[j-1]*u/d\n",
        "\n",
        "    # initialise option values at maturity\n",
        "    C = np.zeros(N+1)\n",
        "    for j in range(0,N+1):\n",
        "        C[j] = max(0, S[j]-K)\n",
        "\n",
        "    # step backwards through tree\n",
        "    for i in np.arange(N,0,-1):\n",
        "        for j in range(0,i):\n",
        "            C[j] = disc * ( q*C[j+1] + (1-q)*C[j] )\n",
        "\n",
        "    return C[0]"
      ],
      "metadata": {
        "id": "kqey6aOIeY-o"
      },
      "execution_count": null,
      "outputs": []
    },
    {
      "cell_type": "code",
      "source": [
        "binomial_tree_slow(K,T,S0,r,N,u,d,opttype='C')"
      ],
      "metadata": {
        "colab": {
          "base_uri": "https://localhost:8080/"
        },
        "id": "uiWHMJwzevzG",
        "outputId": "24e436fa-5c50-4b07-ff58-b2825e8c5ee0"
      },
      "execution_count": null,
      "outputs": [
        {
          "output_type": "stream",
          "name": "stdout",
          "text": [
            "func:'binomial_tree_slow' args:[(100, 1, 100, 0.06, 3, 1.1, 0.9090909090909091), {'opttype': 'C'}] took: 0.0002 sec\n"
          ]
        },
        {
          "output_type": "execute_result",
          "data": {
            "text/plain": [
              "np.float64(10.145735799928817)"
            ]
          },
          "metadata": {},
          "execution_count": 4
        }
      ]
    },
    {
      "cell_type": "markdown",
      "source": [
        "# Binomial Tree Fast\n",
        "\n",
        "Now we will vectorise out code using numpy arrays instead of for loops through j nodes."
      ],
      "metadata": {
        "id": "rlj53x7Wep9Z"
      }
    },
    {
      "cell_type": "code",
      "source": [
        "@timing\n",
        "def binomial_tree_fast(K,T,S0,r,N,u,d,opttype='C'):\n",
        "    #precompute constants\n",
        "    dt = T/N\n",
        "    q = (np.exp(r*dt) - d) / (u-d)\n",
        "    disc = np.exp(-r*dt)\n",
        "\n",
        "    # initialise asset prices at maturity - Time step N\n",
        "    C = S0 * d ** (np.arange(N,-1,-1)) * u ** (np.arange(0,N+1,1))\n",
        "\n",
        "    # initialise option values at maturity\n",
        "    C = np.maximum( C - K , np.zeros(N+1) )\n",
        "\n",
        "    # step backwards through tree\n",
        "    for i in np.arange(N,0,-1):\n",
        "        C = disc * ( q * C[1:i+1] + (1-q) * C[0:i] )\n",
        "\n",
        "    return C[0]"
      ],
      "metadata": {
        "id": "ll4AdxeieqVq"
      },
      "execution_count": null,
      "outputs": []
    },
    {
      "cell_type": "code",
      "source": [
        "binomial_tree_fast(K,T,S0,r,N,u,d,opttype='C')"
      ],
      "metadata": {
        "colab": {
          "base_uri": "https://localhost:8080/"
        },
        "id": "nHNkLI4fe3Lx",
        "outputId": "5ffc121a-f98d-4254-b269-8c41524f0890"
      },
      "execution_count": null,
      "outputs": [
        {
          "output_type": "stream",
          "name": "stdout",
          "text": [
            "func:'binomial_tree_fast' args:[(100, 1, 100, 0.06, 3, 1.1, 0.9090909090909091), {'opttype': 'C'}] took: 0.0011 sec\n"
          ]
        },
        {
          "output_type": "execute_result",
          "data": {
            "text/plain": [
              "np.float64(10.145735799928826)"
            ]
          },
          "metadata": {},
          "execution_count": 6
        }
      ]
    },
    {
      "cell_type": "markdown",
      "source": [
        "# Binomial Tree Slow vs Fast\n",
        "\n",
        "Now we will compare runtimes for slow vs fast. Ignore option price changes as this is impacted with changing the time steps and keeping the u and d factors the same."
      ],
      "metadata": {
        "id": "MotRb6NMe9MH"
      }
    },
    {
      "cell_type": "code",
      "source": [
        "for N in [3,50, 100, 1000, 5000]:\n",
        "    binomial_tree_slow(K,T,S0,r,N,u,d,opttype='C')\n",
        "    binomial_tree_fast(K,T,S0,r,N,u,d,opttype='C')"
      ],
      "metadata": {
        "colab": {
          "base_uri": "https://localhost:8080/"
        },
        "id": "y6SIWM3-e9mX",
        "outputId": "bddefabd-c66f-440d-cfd4-d550a4198d6f"
      },
      "execution_count": null,
      "outputs": [
        {
          "output_type": "stream",
          "name": "stdout",
          "text": [
            "func:'binomial_tree_slow' args:[(100, 1, 100, 0.06, 3, 1.1, 0.9090909090909091), {'opttype': 'C'}] took: 0.0009 sec\n",
            "func:'binomial_tree_fast' args:[(100, 1, 100, 0.06, 3, 1.1, 0.9090909090909091), {'opttype': 'C'}] took: 0.0001 sec\n",
            "func:'binomial_tree_slow' args:[(100, 1, 100, 0.06, 50, 1.1, 0.9090909090909091), {'opttype': 'C'}] took: 0.0016 sec\n",
            "func:'binomial_tree_fast' args:[(100, 1, 100, 0.06, 50, 1.1, 0.9090909090909091), {'opttype': 'C'}] took: 0.0006 sec\n",
            "func:'binomial_tree_slow' args:[(100, 1, 100, 0.06, 100, 1.1, 0.9090909090909091), {'opttype': 'C'}] took: 0.0040 sec\n",
            "func:'binomial_tree_fast' args:[(100, 1, 100, 0.06, 100, 1.1, 0.9090909090909091), {'opttype': 'C'}] took: 0.0006 sec\n",
            "func:'binomial_tree_slow' args:[(100, 1, 100, 0.06, 1000, 1.1, 0.9090909090909091), {'opttype': 'C'}] took: 0.3259 sec\n",
            "func:'binomial_tree_fast' args:[(100, 1, 100, 0.06, 1000, 1.1, 0.9090909090909091), {'opttype': 'C'}] took: 0.0086 sec\n",
            "func:'binomial_tree_slow' args:[(100, 1, 100, 0.06, 5000, 1.1, 0.9090909090909091), {'opttype': 'C'}] took: 9.3699 sec\n",
            "func:'binomial_tree_fast' args:[(100, 1, 100, 0.06, 5000, 1.1, 0.9090909090909091), {'opttype': 'C'}] took: 0.0555 sec\n"
          ]
        }
      ]
    }
  ]
}