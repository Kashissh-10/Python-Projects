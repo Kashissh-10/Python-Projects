{
  "nbformat": 4,
  "nbformat_minor": 0,
  "metadata": {
    "colab": {
      "provenance": [],
      "authorship_tag": "ABX9TyOMZei9vAs+ZxKWK0aGkGFb"
    },
    "kernelspec": {
      "name": "python3",
      "display_name": "Python 3"
    },
    "language_info": {
      "name": "python"
    }
  },
  "cells": [
    {
      "cell_type": "markdown",
      "source": [
        "# Option Pricing using the Black-Scholes-Merton Model\n",
        "\n",
        "In finance, the Black-Scholes-Merton model is one of the most widely used methods for pricing options. It calculates the theoretical value of an option based on five essential parameters:\n",
        "\n",
        "* Underlying Price (S)\n",
        "* Strike Price (K)\n",
        "* Time to Expiration (T)\n",
        "* Risk Free Rate (r)  \n",
        "* Volatility (σ)\n"
      ],
      "metadata": {
        "id": "o3oDHBJO7zcG"
      }
    },
    {
      "cell_type": "markdown",
      "source": [
        "# Import Necessary Libraries"
      ],
      "metadata": {
        "id": "BLHMS9EnGy0b"
      }
    },
    {
      "cell_type": "code",
      "source": [
        "import math\n",
        "from scipy.stats import norm"
      ],
      "metadata": {
        "id": "-2u4i4Yd7z7u"
      },
      "execution_count": null,
      "outputs": []
    },
    {
      "cell_type": "markdown",
      "source": [
        "# Define the Variables"
      ],
      "metadata": {
        "id": "IWZYlwWq70OJ"
      }
    },
    {
      "cell_type": "code",
      "source": [
        "S = 45  # Underlying Price\n",
        "K = 40  # Strike Price\n",
        "T = 2   # Time to Expiration\n",
        "r = 0.1 # Risk-Free Rate\n",
        "vol = 0.1 # Volatility (σ)"
      ],
      "metadata": {
        "id": "lP26JE_P70mi"
      },
      "execution_count": null,
      "outputs": []
    },
    {
      "cell_type": "markdown",
      "source": [
        "# Calculate d1"
      ],
      "metadata": {
        "id": "vGeHtNED71Ch"
      }
    },
    {
      "cell_type": "code",
      "source": [
        "d1 = (math.log(S/K) + (r + 0.5 * vol**2)*T ) / (vol * math.sqrt(T))"
      ],
      "metadata": {
        "id": "xKBtO97K71cD"
      },
      "execution_count": null,
      "outputs": []
    },
    {
      "cell_type": "markdown",
      "source": [
        "# Calculate d2"
      ],
      "metadata": {
        "id": "lIqyg9p6HZAd"
      }
    },
    {
      "cell_type": "code",
      "source": [
        "d2 = d1 - (vol * math.sqrt(T))"
      ],
      "metadata": {
        "id": "MVLRXBb7HcYd"
      },
      "execution_count": null,
      "outputs": []
    },
    {
      "cell_type": "markdown",
      "source": [
        "# Calculate Call Option Price"
      ],
      "metadata": {
        "id": "wuGyTeB2HhEZ"
      }
    },
    {
      "cell_type": "code",
      "source": [
        "C = S * norm.cdf(d1) - K * math.exp(-r * T) * norm.cdf(d2)"
      ],
      "metadata": {
        "id": "Xky6ZsY5ILpI"
      },
      "execution_count": null,
      "outputs": []
    },
    {
      "cell_type": "markdown",
      "source": [
        "# Calculate Put Option Price"
      ],
      "metadata": {
        "id": "y4xBDuQbIOl_"
      }
    },
    {
      "cell_type": "code",
      "source": [
        "P = K * math.exp(-r * T) * norm.cdf(-d2) - S * norm.cdf(-d1)"
      ],
      "metadata": {
        "id": "wB5xXJJwIPKH"
      },
      "execution_count": null,
      "outputs": []
    },
    {
      "cell_type": "markdown",
      "source": [
        "# Print the Results"
      ],
      "metadata": {
        "id": "pDUP0om2HoyN"
      }
    },
    {
      "cell_type": "code",
      "source": [
        "print('The value of d1 is: ', round(d1, 4))\n",
        "print('The value of d2 is: ', round(d2, 4))\n",
        "print('The price of the call option is: $', round(C, 2))\n",
        "print('The price of the put option is: $', round(P, 2))"
      ],
      "metadata": {
        "colab": {
          "base_uri": "https://localhost:8080/"
        },
        "id": "Hm_0MutcIcnk",
        "outputId": "3fa5b677-6635-4b5b-d544-af6556eb3917"
      },
      "execution_count": null,
      "outputs": [
        {
          "output_type": "stream",
          "name": "stdout",
          "text": [
            "The value of d1 is:  2.3178\n",
            "The value of d2 is:  2.1764\n",
            "The price of the call option is: $ 12.27\n",
            "The price of the put option is: $ 0.02\n"
          ]
        }
      ]
    }
  ]
}